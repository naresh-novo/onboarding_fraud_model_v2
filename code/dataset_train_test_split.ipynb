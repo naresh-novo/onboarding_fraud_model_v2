{
 "cells": [
  {
   "cell_type": "code",
   "execution_count": 1,
   "id": "b8b88f66-7934-41cc-8fbd-86d100f3ac01",
   "metadata": {},
   "outputs": [],
   "source": [
    "# path variables\n",
    "import sys\n",
    "project_path = '/Users/naresh/Downloads/ds_models/onboarding_fraud_model_v2/'\n",
    "\n",
    "# core libraries\n",
    "import datetime\n",
    "import pandas as pd\n",
    "import numpy as np\n",
    "import warnings\n",
    "warnings.filterwarnings(\"ignore\")\n",
    "\n",
    "# load custom modules\n",
    "from model_building import split_test_train"
   ]
  },
  {
   "cell_type": "code",
   "execution_count": 2,
   "id": "d969d68a-8b96-4853-8394-5a11ec2111c5",
   "metadata": {
    "scrolled": true
   },
   "outputs": [
    {
     "data": {
      "text/plain": [
       "(65769, 64)"
      ]
     },
     "execution_count": 2,
     "metadata": {},
     "output_type": "execute_result"
    }
   ],
   "source": [
    "# file = 'raw_data_may30.csv'\n",
    "year = '2021_2022'\n",
    "file = 'onboarding_fraud_v2_raw_dataset_'+year+'_2024-06-06.pkl'\n",
    "path = project_path + 'data/'\n",
    "df_raw = pd.read_pickle(path + file)\n",
    "df_raw.shape"
   ]
  },
  {
   "cell_type": "code",
   "execution_count": 3,
   "id": "17665d95-cf57-482d-82f8-8443a3df3feb",
   "metadata": {},
   "outputs": [],
   "source": [
    "# converting uppercase column names to lowercase column names\n",
    "cols_lower = []\n",
    "for col in df_raw.columns:\n",
    "    cols_lower.append(col.lower())\n",
    "    df_raw[col.lower()]=df_raw[col]\n",
    "\n",
    "df_raw = df_raw[cols_lower] # selecting only lowercase columns"
   ]
  },
  {
   "cell_type": "code",
   "execution_count": 4,
   "id": "75c122e5-cb1d-4c53-b668-32aca02d5569",
   "metadata": {},
   "outputs": [
    {
     "name": "stdout",
     "output_type": "stream",
     "text": [
      "x_train.shape = (46038, 63) | y_train.shape = (46038,) | x_test.shape = (19731, 63) | y_test.shape = (19731,)\n"
     ]
    }
   ],
   "source": [
    "# train test split\n",
    "# good: 34\n",
    "# bad: 45, 14\n",
    "x_train, y_train, x_test, y_test = split_test_train(df_raw, target_column='target', test_size=0.3, random_state=34)\n",
    "print(f'{x_train.shape = }', '|' ,f'{y_train.shape = }', '|' ,f'{x_test.shape = }', '|' ,f'{y_test.shape = }')"
   ]
  },
  {
   "cell_type": "code",
   "execution_count": 5,
   "id": "b10038b1-ea04-4a06-9182-dd06a8c0b66c",
   "metadata": {},
   "outputs": [
    {
     "data": {
      "text/plain": [
       "(65769, 66)"
      ]
     },
     "execution_count": 5,
     "metadata": {},
     "output_type": "execute_result"
    }
   ],
   "source": [
    "# add train test flag\n",
    "x_train['train_flag'] = 1\n",
    "x_test['test_flag'] = 1\n",
    "\n",
    "# merge with df_raw to get the flags\n",
    "df_raw = df_raw.merge(x_train[['business_id', 'train_flag']], on='business_id', how='left')\n",
    "df_raw = df_raw.merge(x_test[['business_id', 'test_flag']], on='business_id', how='left')\n",
    "\n",
    "# fill null with 0\n",
    "df_raw['train_flag'].fillna(0, inplace=True)\n",
    "df_raw['test_flag'].fillna(0, inplace=True)\n",
    "df_raw.shape"
   ]
  },
  {
   "cell_type": "code",
   "execution_count": 6,
   "id": "f43e2384-4f65-42b1-b798-b49d297aa7a6",
   "metadata": {},
   "outputs": [],
   "source": [
    "# save the dataset\n",
    "cols = ['business_id', 'application_id', 'target', 'train_flag', 'test_flag']\n",
    "# file = 'train_test_flag_'+year+'_'+ str(datetime.date.today()) + '.pkl'\n",
    "\n",
    "file = 'train_test_flag_'+year+'_'+'2024-06-08.pkl'\n",
    "\n",
    "path = project_path + 'data/'\n",
    "df_raw[cols].to_pickle(path+file)"
   ]
  },
  {
   "cell_type": "code",
   "execution_count": 7,
   "id": "cc19024f-227a-43ee-b15a-339ad1d72cfb",
   "metadata": {},
   "outputs": [
    {
     "data": {
      "text/plain": [
       "datetime.datetime(2024, 6, 18, 9, 9, 51, 326081)"
      ]
     },
     "execution_count": 7,
     "metadata": {},
     "output_type": "execute_result"
    }
   ],
   "source": [
    "datetime.datetime.now()"
   ]
  },
  {
   "cell_type": "code",
   "execution_count": null,
   "id": "e1e755ca-a70a-47dc-b8a9-320fd657a0d6",
   "metadata": {},
   "outputs": [],
   "source": []
  }
 ],
 "metadata": {
  "kernelspec": {
   "display_name": "Python 3 (ipykernel)",
   "language": "python",
   "name": "python3"
  },
  "language_info": {
   "codemirror_mode": {
    "name": "ipython",
    "version": 3
   },
   "file_extension": ".py",
   "mimetype": "text/x-python",
   "name": "python",
   "nbconvert_exporter": "python",
   "pygments_lexer": "ipython3",
   "version": "3.9.16"
  }
 },
 "nbformat": 4,
 "nbformat_minor": 5
}
